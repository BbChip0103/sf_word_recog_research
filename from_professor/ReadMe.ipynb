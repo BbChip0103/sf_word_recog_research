{
 "cells": [
  {
   "cell_type": "markdown",
   "metadata": {},
   "source": [
    "## CNN models tested\n",
    "\n",
    "input (99x257) <br>\n",
    "output (16)\n",
    "\n",
    "1. 1Conv  \n",
    "    1. 1FC\n",
    "    2. 2FC\n",
    "2. 2Conv\n",
    "    1. 1FC\n",
    "    2. 2FC\n",
    "3. 3Conv\n",
    "    1. 1FC\n",
    "    2. 2FC\n",
    "4. 4Conv\n",
    "    1. 1FC\n",
    "    2. 2FC\n",
    "5. 5Conv\n",
    "    1. 1FC\n",
    "    2. 2FC\n",
    "6. 6Conv\n",
    "    1. 1FC\n",
    "    2. 2FC\n",
    "7. 6Conv\n",
    "    1. 1FC\n",
    "    2. 2FC\n",
    "    \n",
    "The detailed model architecture and results of the training/validation/test are decribed below.   "
   ]
  },
  {
   "cell_type": "markdown",
   "metadata": {},
   "source": [
    "### 1Conv  - 1FC\n",
    "\n",
    "conv1(5x5; 8) <br>\n",
    "pool1(2x2) <br>\n",
    "fc1(1024)\n",
    "\n",
    "<img src='model/cnn_1conv_1fc/accuracy.png' width=500>\n",
    "\n",
    "\n",
    "Final accuracy (train, validation, test; %): 99.51,\t87.57,\t84.74 \n",
    "\n"
   ]
  },
  {
   "cell_type": "markdown",
   "metadata": {},
   "source": [
    "### 1Conv  - 2FC\n",
    "\n",
    "conv1(5x5; 8) <br>\n",
    "pool1(2x2) <br>\n",
    "fc1(1024) <br>\n",
    "fc2(512) \n",
    "\n",
    "<img src='model/cnn_1conv_2fc/accuracy.png' width=500>\n",
    "\n",
    "\n",
    "Final accuracy (train, validation, test; %): 99.05, 87.39, 83.78"
   ]
  },
  {
   "cell_type": "markdown",
   "metadata": {},
   "source": [
    "### 2Conv  - 1FC\n",
    "\n",
    "conv1(5x5; 8) <br>\n",
    "pool1(2x2) <br>\n",
    "conv2(5x5; 16) <br>\n",
    "pool2(2x2) <br>\n",
    "fc1(1024) <br>\n",
    "\n",
    "<img src='model/cnn_2conv_1fc/accuracy.png' width=500>\n",
    "\n",
    "\n",
    "Final accuracy (train, validation, test; %): 99.91,\t92.81,\t90.24"
   ]
  },
  {
   "cell_type": "markdown",
   "metadata": {},
   "source": [
    "### 2Conv  - 2FC\n",
    "\n",
    "conv1(5x5; 8) <br>\n",
    "pool1(2x2) <br>\n",
    "conv2(5x5; 16) <br>\n",
    "pool2(2x2) <br>\n",
    "fc1(1024) <br>\n",
    "fc2(512) <br>\n",
    "\n",
    "<img src='model/cnn_2conv_2fc/accuracy.png' width=500>\n",
    "\n",
    "\n",
    "Final accuracy (train, validation, test; %): 99.86,\t93.52,\t90.78"
   ]
  },
  {
   "cell_type": "markdown",
   "metadata": {},
   "source": [
    "### 3Conv  - 1FC\n",
    "\n",
    "conv1(5x5; 8) <br>\n",
    "pool1(2x2) <br>\n",
    "conv2(5x5; 16) <br>\n",
    "pool2(2x2) <br>\n",
    "conv3(5x5; 32) <br>\n",
    "pool3(2x2) <br>\n",
    "fc1(1024) <br>\n",
    "\n",
    "<img src='model/cnn_3conv_1fc/accuracy.png' width=500>\n",
    "\n",
    "\n",
    "Final accuracy (train, validation, test; %): 99.87,\t94.77,\t93.07"
   ]
  },
  {
   "cell_type": "markdown",
   "metadata": {},
   "source": [
    "### 3Conv  -  2FC\n",
    "\n",
    "conv1(5x5; 8) <br>\n",
    "pool1(2x2) <br>\n",
    "conv2(5x5; 16) <br>\n",
    "pool2(2x2) <br>\n",
    "conv3(5x5; 32) <br>\n",
    "pool3(2x2) <br>\n",
    "fc1(1024) <br>\n",
    "fc2(512) <br>\n",
    "\n",
    "<img src='model/cnn_3conv_2fc/accuracy.png' width=500>\n",
    "\n",
    "\n",
    "Final accuracy (train, validation, test; %): 99.82,\t94.15,\t92.17"
   ]
  },
  {
   "cell_type": "markdown",
   "metadata": {},
   "source": [
    "### 4Conv  - 1FC\n",
    "\n",
    "conv1(5x5; 8) <br>\n",
    "pool1(2x2) <br>\n",
    "conv2(5x5; 16) <br>\n",
    "pool2(2x2) <br>\n",
    "conv3(5x5; 32) <br>\n",
    "pool3(2x2) <br>\n",
    "conv4(5x5; 64) <br>\n",
    "pool4(2x2) <br>\n",
    "fc1(1024) <br>\n",
    "\n",
    "<img src='model/cnn_4conv_1fc/accuracy.png' width=500>\n",
    "\n",
    "\n",
    "Final accuracy (train, validation, test; %): 99.69,\t94.39,\t92.98"
   ]
  },
  {
   "cell_type": "markdown",
   "metadata": {},
   "source": [
    "### 4Conv  -  2FC\n",
    "\n",
    "conv1(5x5; 8) <br>\n",
    "pool1(2x2) <br>\n",
    "conv2(5x5; 16) <br>\n",
    "pool2(2x2) <br>\n",
    "conv3(5x5; 32) <br>\n",
    "pool3(2x2) <br>\n",
    "conv4(5x5; 64) <br>\n",
    "pool4(2x2) <br>\n",
    "fc1(1024) <br>\n",
    "fc2(512) <br>\n",
    "\n",
    "<img src='model/cnn_4conv_2fc/accuracy.png' width=500>\n",
    "\n",
    "\n",
    "Final accuracy (train, validation, test; %): 99.70,\t94.92,\t92.38"
   ]
  },
  {
   "cell_type": "markdown",
   "metadata": {},
   "source": [
    "### 5Conv  - 1FC\n",
    "\n",
    "conv1(5x5; 8) <br>\n",
    "pool1(2x2) <br>\n",
    "conv2(5x5; 16) <br>\n",
    "pool2(2x2) <br>\n",
    "conv3(5x5; 32) <br>\n",
    "pool3(2x2) <br>\n",
    "conv4(5x5; 64) <br>\n",
    "pool4(2x2) <br>\n",
    "conv5(5x5; 128) <br>\n",
    "pool5(2x2) <br>\n",
    "fc1(1024) <br>\n",
    "\n",
    "<img src='model/cnn_5conv_1fc/accuracy.png' width=500>\n",
    "\n",
    "\n",
    "Final accuracy (train, validation, test; %): 99.50,\t94.78,\t92.67"
   ]
  },
  {
   "cell_type": "markdown",
   "metadata": {},
   "source": [
    "### 5Conv  - 2FC\n",
    "\n",
    "conv1(5x5; 8) <br>\n",
    "pool1(2x2) <br>\n",
    "conv2(5x5; 16) <br>\n",
    "pool2(2x2) <br>\n",
    "conv3(5x5; 32) <br>\n",
    "pool3(2x2) <br>\n",
    "conv4(5x5; 64) <br>\n",
    "pool4(2x2) <br>\n",
    "conv5(5x5; 128) <br>\n",
    "pool5(2x2) <br>\n",
    "fc1(1024) <br>\n",
    "fc2(512) <br>\n",
    "\n",
    "<img src='model/cnn_5conv_2fc/accuracy.png' width=500>\n",
    "\n",
    "\n",
    "Final accuracy (train, validation, test; %): 99.55,\t94.74,\t92.22"
   ]
  },
  {
   "cell_type": "markdown",
   "metadata": {},
   "source": [
    "### 6Conv  - 1FC\n",
    "\n",
    "conv1(2x3; 8) <br>\n",
    "pool1(2x2) <br>\n",
    "conv2(2x3; 16) <br>\n",
    "pool2(2x2) <br>\n",
    "conv3(2x3; 32) <br>\n",
    "pool3(2x2) <br>\n",
    "conv4(2x3; 64) <br>\n",
    "pool4(2x2) <br>\n",
    "conv5(2x3; 128) <br>\n",
    "pool5(2x2) <br>\n",
    "conv6(2x3; 256) <br>\n",
    "pool6(2x2) <br>\n",
    "fc1(1024) <br>\n",
    "\n",
    "<img src='model/cnn_6conv_1fc/accuracy.png' width=500>\n",
    "\n",
    "\n",
    "Final accuracy (train, validation, test; %): 99.81,\t94.53,\t92.43"
   ]
  },
  {
   "cell_type": "markdown",
   "metadata": {},
   "source": [
    "### 6Conv  - 2FC\n",
    "\n",
    "conv1(2x3; 8) <br>\n",
    "pool1(2x2) <br>\n",
    "conv2(2x3; 16) <br>\n",
    "pool2(2x2) <br>\n",
    "conv3(2x3; 32) <br>\n",
    "pool3(2x2) <br>\n",
    "conv4(2x3; 64) <br>\n",
    "pool4(2x2) <br>\n",
    "conv5(2x3; 128) <br>\n",
    "pool5(2x2) <br>\n",
    "conv6(2x3; 256) <br>\n",
    "pool6(2x2) <br>\n",
    "fc1(1024) <br>\n",
    "fc2(512) <br>\n",
    "\n",
    "<img src='model/cnn_6conv_2fc/accuracy.png' width=500>\n",
    "\n",
    "\n",
    "Final accuracy (train, validation, test; %): 99.78,\t95.32,\t92.94"
   ]
  },
  {
   "cell_type": "code",
   "execution_count": null,
   "metadata": {},
   "outputs": [],
   "source": []
  },
  {
   "cell_type": "code",
   "execution_count": null,
   "metadata": {},
   "outputs": [],
   "source": []
  },
  {
   "cell_type": "code",
   "execution_count": null,
   "metadata": {},
   "outputs": [],
   "source": []
  },
  {
   "cell_type": "code",
   "execution_count": null,
   "metadata": {},
   "outputs": [],
   "source": []
  },
  {
   "cell_type": "code",
   "execution_count": null,
   "metadata": {},
   "outputs": [],
   "source": []
  }
 ],
 "metadata": {
  "kernelspec": {
   "display_name": "Python 3",
   "language": "python",
   "name": "python3"
  },
  "language_info": {
   "codemirror_mode": {
    "name": "ipython",
    "version": 3
   },
   "file_extension": ".py",
   "mimetype": "text/x-python",
   "name": "python",
   "nbconvert_exporter": "python",
   "pygments_lexer": "ipython3",
   "version": "3.6.4"
  }
 },
 "nbformat": 4,
 "nbformat_minor": 2
}
