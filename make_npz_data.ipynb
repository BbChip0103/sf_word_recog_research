{
 "cells": [
  {
   "cell_type": "code",
   "execution_count": 1,
   "metadata": {
    "scrolled": true
   },
   "outputs": [],
   "source": [
    "import numpy as np\n",
    "import os\n",
    "import os.path as path\n",
    "from tqdm import tqdm_notebook as tqdm\n",
    "import cv2\n",
    "from sklearn.utils import shuffle\n",
    "import tensorflow as tf\n",
    "from tensorflow.keras.utils import to_categorical"
   ]
  },
  {
   "cell_type": "code",
   "execution_count": 2,
   "metadata": {},
   "outputs": [],
   "source": [
    "base_path = 'data'\n",
    "data_path = path.join(base_path, 'data_speech_commands_v0.02')\n",
    "strange_path = path.join(base_path, 'strange')"
   ]
  },
  {
   "cell_type": "code",
   "execution_count": 3,
   "metadata": {},
   "outputs": [],
   "source": [
    "class_list = ['zero', 'one', 'two', 'three', 'four', \n",
    "              'five', 'six', 'seven', 'eight', 'nine', \n",
    "              'bed', 'bird', 'tree', 'cat', 'house',\n",
    "              'dog']\n",
    "\n",
    "class_dict = {_class:i for i, _class in enumerate(class_list)}"
   ]
  },
  {
   "cell_type": "code",
   "execution_count": 6,
   "metadata": {},
   "outputs": [],
   "source": [
    "def make_x_data(filenames):\n",
    "    load_and_flatten = lambda filename: cv2.imread(filename, cv2.IMREAD_GRAYSCALE).flatten().astype(np.float32)\n",
    "    x_data = np.asarray([load_and_flatten(path.join(data_path, filename)) \n",
    "                            for filename in filenames])\n",
    "    return x_data\n",
    "    \n",
    "def extract_class_from_filename(filename):\n",
    "    dirname = os.path.dirname(filename)\n",
    "    class_name = dirname.split(path.sep)[-1]\n",
    "    return class_name\n",
    "\n",
    "# def make_y_data(filenames, y_dict):\n",
    "#     return np.asarray([to_categorical(y_dict[extract_class_from_filename(filename)], len(class_list)) \n",
    "#                        for filename in filenames])\n",
    "\n",
    "def make_y_data(filenames, y_dict):\n",
    "    return np.asarray([y_dict[extract_class_from_filename(filename)]\n",
    "                           for filename in filenames])\n",
    "\n",
    "def make_xy_data(filenames, y_dict):\n",
    "    print('make x data...')\n",
    "    x_data = make_x_data(filenames)\n",
    "    print('make y data...')\n",
    "    y_data = make_y_data(filenames, y_dict)\n",
    "    return x_data, y_data"
   ]
  },
  {
   "cell_type": "code",
   "execution_count": 7,
   "metadata": {
    "scrolled": true
   },
   "outputs": [
    {
     "name": "stdout",
     "output_type": "stream",
     "text": [
      "make x data...\n",
      "make y data...\n"
     ]
    }
   ],
   "source": [
    "train_text_filename = path.join(base_path, 'train_16words_png_ok.txt') \n",
    "with open(train_text_filename, 'r', encoding='utf-8') as f:\n",
    "    train_filename_list = f.read().splitlines()\n",
    "\n",
    "train_filename_list = shuffle(train_filename_list)\n",
    "x_train, y_train = make_xy_data(train_filename_list, class_dict)\n",
    "lookup_table = np.asarray(list(class_dict.items()))\n",
    "\n",
    "np.savez_compressed(path.join(data_path, 'train_data.npz'),\n",
    "                     x_train=x_train, y_train=y_train, table=lookup_table)\n",
    "\n",
    "del x_train, y_train"
   ]
  },
  {
   "cell_type": "code",
   "execution_count": 9,
   "metadata": {},
   "outputs": [
    {
     "name": "stdout",
     "output_type": "stream",
     "text": [
      "make x data...\n",
      "make y data...\n"
     ]
    }
   ],
   "source": [
    "validation_text_filename = path.join(base_path, 'validation_16words_png_ok.txt') \n",
    "with open(validation_text_filename, 'r', encoding='utf-8') as f:\n",
    "    val_filename_list = f.read().splitlines()\n",
    "\n",
    "val_filename_list = shuffle(val_filename_list)\n",
    "x_val, y_val = make_xy_data(val_filename_list, class_dict)\n",
    "lookup_table = np.asarray(list(class_dict.items()))\n",
    "\n",
    "np.savez_compressed(path.join(data_path, 'validation_data.npz'), \n",
    "                     x_val=x_val, y_val=y_val, table=lookup_table)\n",
    "\n",
    "del x_val, y_val"
   ]
  },
  {
   "cell_type": "code",
   "execution_count": 10,
   "metadata": {},
   "outputs": [
    {
     "name": "stdout",
     "output_type": "stream",
     "text": [
      "make x data...\n",
      "make y data...\n"
     ]
    }
   ],
   "source": [
    "test_text_filename = path.join(base_path, 'test_16words_png_ok.txt') \n",
    "with open(test_text_filename, 'r', encoding='utf-8') as f:\n",
    "    test_filename_list = f.read().splitlines()\n",
    "\n",
    "test_filename_list = shuffle(test_filename_list)\n",
    "x_test, y_test = make_xy_data(test_filename_list, class_dict)\n",
    "lookup_table = np.asarray(list(class_dict.items()))\n",
    "\n",
    "np.savez_compressed(path.join(data_path, 'test_data.npz'), \n",
    "                     x_test=x_test, y_test=y_test, table=lookup_table)\n",
    "\n",
    "del x_test, y_test"
   ]
  },
  {
   "cell_type": "code",
   "execution_count": 11,
   "metadata": {},
   "outputs": [
    {
     "data": {
      "text/plain": [
       "((36805, 25443), (36805,))"
      ]
     },
     "execution_count": 11,
     "metadata": {},
     "output_type": "execute_result"
    }
   ],
   "source": [
    "data = np.load(path.join(data_path, 'train_data.npz'))\n",
    "data['x_train'].shape, data['y_train'].shape"
   ]
  },
  {
   "cell_type": "code",
   "execution_count": 12,
   "metadata": {
    "scrolled": true
   },
   "outputs": [
    {
     "data": {
      "text/plain": [
       "((4293, 25443), (4293,))"
      ]
     },
     "execution_count": 12,
     "metadata": {},
     "output_type": "execute_result"
    }
   ],
   "source": [
    "data = np.load(path.join(data_path, 'validation_data.npz'))\n",
    "data['x_val'].shape, data['y_val'].shape"
   ]
  },
  {
   "cell_type": "code",
   "execution_count": 13,
   "metadata": {},
   "outputs": [
    {
     "data": {
      "text/plain": [
       "((4815, 25443), (4815,))"
      ]
     },
     "execution_count": 13,
     "metadata": {},
     "output_type": "execute_result"
    }
   ],
   "source": [
    "data = np.load(path.join(data_path, 'test_data.npz'))\n",
    "data['x_test'].shape, data['y_test'].shape"
   ]
  },
  {
   "cell_type": "code",
   "execution_count": null,
   "metadata": {},
   "outputs": [],
   "source": []
  }
 ],
 "metadata": {
  "kernelspec": {
   "display_name": "Python 3",
   "language": "python",
   "name": "python3"
  },
  "language_info": {
   "codemirror_mode": {
    "name": "ipython",
    "version": 3
   },
   "file_extension": ".py",
   "mimetype": "text/x-python",
   "name": "python",
   "nbconvert_exporter": "python",
   "pygments_lexer": "ipython3",
   "version": "3.6.7"
  }
 },
 "nbformat": 4,
 "nbformat_minor": 2
}
