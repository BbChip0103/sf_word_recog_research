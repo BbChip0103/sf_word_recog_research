{
 "cells": [
  {
   "cell_type": "code",
   "execution_count": 1,
   "metadata": {
    "scrolled": true
   },
   "outputs": [],
   "source": [
    "import numpy as np\n",
    "import os\n",
    "import os.path as path\n",
    "from tqdm import tqdm_notebook as tqdm\n",
    "import librosa\n",
    "from sklearn.utils import shuffle\n",
    "import tensorflow as tf\n",
    "# from tensorflow.keras.utils import to_categorical"
   ]
  },
  {
   "cell_type": "code",
   "execution_count": 2,
   "metadata": {},
   "outputs": [],
   "source": [
    "base_path = 'data'\n",
    "data_path = path.join(base_path, 'data_speech_commands_v0.02')\n",
    "strange_path = path.join(base_path, 'strange')"
   ]
  },
  {
   "cell_type": "code",
   "execution_count": 3,
   "metadata": {},
   "outputs": [],
   "source": [
    "class_list = ['zero', 'one', 'two', 'three', 'four', \n",
    "              'five', 'six', 'seven', 'eight', 'nine', \n",
    "              'bed', 'bird', 'cat', 'dog', 'house',\n",
    "              'tree']\n",
    "\n",
    "class_dict = {_class:i for i, _class in enumerate(class_list)}"
   ]
  },
  {
   "cell_type": "code",
   "execution_count": 4,
   "metadata": {},
   "outputs": [],
   "source": [
    "def load_wavs(filenames):\n",
    "#     first_wav, _ = librosa.load(path.join(data_path, filename), sr=16000)\n",
    "#     wav_shape = first_wav.shape[0]\n",
    "#     x_data = [librosa.util.fix_length(librosa.load(filename)[0], wav_shape) \n",
    "#               for filename in tqdm(filenames)]\n",
    "    x_data = [ librosa.load(path.join(data_path, filename), sr=16000)[0]\n",
    "              for filename in tqdm(filenames)]\n",
    "    return np.asarray(x_data)\n",
    "    \n",
    "### If you have lack of memory, Use this\n",
    "#     wav, _ = librosa.load(filenames[0])\n",
    "#     wavs = np.zeros( (len(filenames), wav.shape[0]) )\n",
    "#     for i, filename in enumerate(filenames):\n",
    "#         wavs[i] = librosa.load(filename)[0][:]\n",
    "#     return wavs\n",
    "\n",
    "def make_x_data(filenames):\n",
    "    x_data = load_wavs(filenames)\n",
    "    x_data = np.reshape(x_data, (*x_data.shape, 1))\n",
    "    return x_data\n",
    "    \n",
    "def extract_class_from_filename(filename):\n",
    "    dirname = os.path.dirname(filename)\n",
    "    class_name = dirname.split('/')[-1]\n",
    "    return class_name\n",
    "\n",
    "def make_y_data(filenames, y_dict):\n",
    "    return np.asarray([y_dict[extract_class_from_filename(filename)] \n",
    "                       for filename in filenames])\n",
    "\n",
    "def make_xy_data(filenames, y_dict):\n",
    "    x_data = make_x_data(filenames)\n",
    "    y_data = make_y_data(filenames, y_dict)\n",
    "    return x_data, y_data"
   ]
  },
  {
   "cell_type": "code",
   "execution_count": 5,
   "metadata": {
    "scrolled": true
   },
   "outputs": [
    {
     "data": {
      "application/vnd.jupyter.widget-view+json": {
       "model_id": "a10f1e73479d4342b8f3b678e082eb95",
       "version_major": 2,
       "version_minor": 0
      },
      "text/plain": [
       "HBox(children=(IntProgress(value=0, max=36805), HTML(value='')))"
      ]
     },
     "metadata": {},
     "output_type": "display_data"
    },
    {
     "name": "stdout",
     "output_type": "stream",
     "text": [
      "\n"
     ]
    }
   ],
   "source": [
    "train_text_filename = path.join(base_path, 'wav_train_16words_ok.txt') \n",
    "with open(train_text_filename, 'r', encoding='utf-8') as f:\n",
    "    train_filename_list = f.read().splitlines()\n",
    "\n",
    "train_filename_list = shuffle(train_filename_list)\n",
    "x_train, y_train = make_xy_data(train_filename_list, class_dict)\n",
    "lookup_table = np.asarray(list(class_dict.items()))\n",
    "\n",
    "np.savez_compressed(path.join(data_path, 'wav_train_data.npz'),\n",
    "                     x_train=x_train, y_train=y_train, table=lookup_table)\n",
    "\n",
    "del x_train, y_train"
   ]
  },
  {
   "cell_type": "code",
   "execution_count": 6,
   "metadata": {},
   "outputs": [
    {
     "data": {
      "application/vnd.jupyter.widget-view+json": {
       "model_id": "f6d471a353a546f49a05998b0a0128e3",
       "version_major": 2,
       "version_minor": 0
      },
      "text/plain": [
       "HBox(children=(IntProgress(value=0, max=4293), HTML(value='')))"
      ]
     },
     "metadata": {},
     "output_type": "display_data"
    },
    {
     "name": "stdout",
     "output_type": "stream",
     "text": [
      "\n"
     ]
    }
   ],
   "source": [
    "validation_text_filename = path.join(base_path, 'wav_validation_16words_ok.txt') \n",
    "with open(validation_text_filename, 'r', encoding='utf-8') as f:\n",
    "    val_filename_list = f.read().splitlines()\n",
    "\n",
    "val_filename_list = shuffle(val_filename_list)\n",
    "x_val, y_val = make_xy_data(val_filename_list, class_dict)\n",
    "lookup_table = np.asarray(list(class_dict.items()))\n",
    "\n",
    "np.savez_compressed(path.join(data_path, 'wav_validation_data.npz'), \n",
    "                     x_val=x_val, y_val=y_val, table=lookup_table)\n",
    "\n",
    "del x_val, y_val"
   ]
  },
  {
   "cell_type": "code",
   "execution_count": 7,
   "metadata": {},
   "outputs": [
    {
     "data": {
      "application/vnd.jupyter.widget-view+json": {
       "model_id": "097270cc23604b459bd0d48ed6fed83a",
       "version_major": 2,
       "version_minor": 0
      },
      "text/plain": [
       "HBox(children=(IntProgress(value=0, max=4815), HTML(value='')))"
      ]
     },
     "metadata": {},
     "output_type": "display_data"
    },
    {
     "name": "stdout",
     "output_type": "stream",
     "text": [
      "\n"
     ]
    }
   ],
   "source": [
    "test_text_filename = path.join(base_path, 'wav_test_16words_ok.txt') \n",
    "with open(test_text_filename, 'r', encoding='utf-8') as f:\n",
    "    test_filename_list = f.read().splitlines()\n",
    "\n",
    "test_filename_list = shuffle(test_filename_list)\n",
    "x_test, y_test = make_xy_data(test_filename_list, class_dict)\n",
    "lookup_table = np.asarray(list(class_dict.items()))\n",
    "\n",
    "np.savez_compressed(path.join(data_path, 'wav_test_data.npz'), \n",
    "                     x_test=x_test, y_test=y_test, table=lookup_table)\n",
    "\n",
    "del x_test, y_test"
   ]
  },
  {
   "cell_type": "code",
   "execution_count": 8,
   "metadata": {},
   "outputs": [
    {
     "data": {
      "text/plain": [
       "((36805, 16000, 1), (36805,))"
      ]
     },
     "execution_count": 8,
     "metadata": {},
     "output_type": "execute_result"
    }
   ],
   "source": [
    "data = np.load(path.join(data_path, 'wav_train_data.npz'))\n",
    "data['x_train'].shape, data['y_train'].shape"
   ]
  },
  {
   "cell_type": "code",
   "execution_count": 9,
   "metadata": {
    "scrolled": true
   },
   "outputs": [
    {
     "data": {
      "text/plain": [
       "((4293, 16000, 1), (4293,))"
      ]
     },
     "execution_count": 9,
     "metadata": {},
     "output_type": "execute_result"
    }
   ],
   "source": [
    "data = np.load(path.join(data_path, 'wav_validation_data.npz'))\n",
    "data['x_val'].shape, data['y_val'].shape"
   ]
  },
  {
   "cell_type": "code",
   "execution_count": 10,
   "metadata": {},
   "outputs": [
    {
     "data": {
      "text/plain": [
       "((4815, 16000, 1), (4815,))"
      ]
     },
     "execution_count": 10,
     "metadata": {},
     "output_type": "execute_result"
    }
   ],
   "source": [
    "data = np.load(path.join(data_path, 'wav_test_data.npz'))\n",
    "data['x_test'].shape, data['y_test'].shape"
   ]
  },
  {
   "cell_type": "code",
   "execution_count": null,
   "metadata": {},
   "outputs": [],
   "source": []
  }
 ],
 "metadata": {
  "kernelspec": {
   "display_name": "Python 3",
   "language": "python",
   "name": "python3"
  },
  "language_info": {
   "codemirror_mode": {
    "name": "ipython",
    "version": 3
   },
   "file_extension": ".py",
   "mimetype": "text/x-python",
   "name": "python",
   "nbconvert_exporter": "python",
   "pygments_lexer": "ipython3",
   "version": "3.6.7"
  }
 },
 "nbformat": 4,
 "nbformat_minor": 2
}
